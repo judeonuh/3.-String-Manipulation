{
 "cells": [
  {
   "cell_type": "markdown",
   "metadata": {},
   "source": [
    "## Palindromes\n",
    "The program code below checks whether a string is a palindrome or not using a stack."
   ]
  },
  {
   "cell_type": "code",
   "execution_count": 7,
   "metadata": {},
   "outputs": [],
   "source": [
    "# Define class and functions\n",
    "class Stack:\n",
    "    def __init__(self):\n",
    "        self.stack = []\n",
    "\n",
    "    def push(self, item):\n",
    "        self.stack.append(item)\n",
    "\n",
    "    def pop(self):\n",
    "        if not self.is_empty():\n",
    "            return self.stack.pop()\n",
    "        return None\n",
    "\n",
    "    def is_empty(self):\n",
    "        return len(self.stack) == 0\n",
    "\n",
    "    def size(self):\n",
    "        return len(self.stack)\n",
    "\n",
    "\n",
    "def is_palindrome(input_string):\n",
    "    # Remove spaces and convert the string to lowercase for case insensitivity\n",
    "    cleaned_string = ''.join(filter(str.isalnum, input_string)).lower()\n",
    "    \n",
    "    # Initialize a stack\n",
    "    stack = Stack()\n",
    "\n",
    "    # Push all characters of the cleaned string onto the stack\n",
    "    for char in cleaned_string:\n",
    "        stack.push(char)\n",
    "\n",
    "    # Check the palindrome condition by comparing stack pop with original characters\n",
    "    for char in cleaned_string:\n",
    "        if char != stack.pop():\n",
    "            return False\n",
    "\n",
    "    return True"
   ]
  },
  {
   "cell_type": "code",
   "execution_count": 6,
   "metadata": {},
   "outputs": [
    {
     "name": "stdout",
     "output_type": "stream",
     "text": [
      "\"\" is a palindrome.\n"
     ]
    }
   ],
   "source": [
    "# Test the function with user string\n",
    "user_string = input(\"Enter string: \")\n",
    "if is_palindrome(user_string):\n",
    "    print(f'\"{user_string}\" is a palindrome.')\n",
    "else:\n",
    "    print(f'\"{user_string}\" is not a palindrome.')"
   ]
  }
 ],
 "metadata": {
  "kernelspec": {
   "display_name": "Python 3",
   "language": "python",
   "name": "python3"
  },
  "language_info": {
   "codemirror_mode": {
    "name": "ipython",
    "version": 3
   },
   "file_extension": ".py",
   "mimetype": "text/x-python",
   "name": "python",
   "nbconvert_exporter": "python",
   "pygments_lexer": "ipython3",
   "version": "3.12.1"
  }
 },
 "nbformat": 4,
 "nbformat_minor": 2
}
